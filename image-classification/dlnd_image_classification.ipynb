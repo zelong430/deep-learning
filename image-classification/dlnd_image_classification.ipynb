{
 "cells": [
  {
   "cell_type": "markdown",
   "metadata": {
    "collapsed": true
   },
   "source": [
    "# Image Classification\n",
    "In this project, you'll classify images from the [CIFAR-10 dataset](https://www.cs.toronto.edu/~kriz/cifar.html).  The dataset consists of airplanes, dogs, cats, and other objects. You'll preprocess the images, then train a convolutional neural network on all the samples. The images need to be normalized and the labels need to be one-hot encoded.  You'll get to apply what you learned and build a convolutional, max pooling, dropout, and fully connected layers.  At the end, you'll get to see your neural network's predictions on the sample images.\n",
    "## Get the Data\n",
    "Run the following cell to download the [CIFAR-10 dataset for python](https://www.cs.toronto.edu/~kriz/cifar-10-python.tar.gz)."
   ]
  },
  {
   "cell_type": "code",
   "execution_count": 1,
   "metadata": {},
   "outputs": [
    {
     "name": "stdout",
     "output_type": "stream",
     "text": [
      "All files found!\n"
     ]
    }
   ],
   "source": [
    "\"\"\"\n",
    "DON'T MODIFY ANYTHING IN THIS CELL THAT IS BELOW THIS LINE\n",
    "\"\"\"\n",
    "from urllib.request import urlretrieve\n",
    "from os.path import isfile, isdir\n",
    "from tqdm import tqdm\n",
    "import problem_unittests as tests\n",
    "import tarfile\n",
    "\n",
    "cifar10_dataset_folder_path = 'cifar-10-batches-py'\n",
    "\n",
    "# Use Floyd's cifar-10 dataset if present\n",
    "floyd_cifar10_location = '/input/cifar-10/python.tar.gz'\n",
    "if isfile(floyd_cifar10_location):\n",
    "    tar_gz_path = floyd_cifar10_location\n",
    "else:\n",
    "    tar_gz_path = 'cifar-10-python.tar.gz'\n",
    "\n",
    "class DLProgress(tqdm):\n",
    "    last_block = 0\n",
    "\n",
    "    def hook(self, block_num=1, block_size=1, total_size=None):\n",
    "        self.total = total_size\n",
    "        self.update((block_num - self.last_block) * block_size)\n",
    "        self.last_block = block_num\n",
    "\n",
    "if not isfile(tar_gz_path):\n",
    "    with DLProgress(unit='B', unit_scale=True, miniters=1, desc='CIFAR-10 Dataset') as pbar:\n",
    "        urlretrieve(\n",
    "            'https://www.cs.toronto.edu/~kriz/cifar-10-python.tar.gz',\n",
    "            tar_gz_path,\n",
    "            pbar.hook)\n",
    "\n",
    "if not isdir(cifar10_dataset_folder_path):\n",
    "    with tarfile.open(tar_gz_path) as tar:\n",
    "        tar.extractall()\n",
    "        tar.close()\n",
    "\n",
    "\n",
    "tests.test_folder_path(cifar10_dataset_folder_path)"
   ]
  },
  {
   "cell_type": "markdown",
   "metadata": {},
   "source": [
    "## Explore the Data\n",
    "The dataset is broken into batches to prevent your machine from running out of memory.  The CIFAR-10 dataset consists of 5 batches, named `data_batch_1`, `data_batch_2`, etc.. Each batch contains the labels and images that are one of the following:\n",
    "* airplane\n",
    "* automobile\n",
    "* bird\n",
    "* cat\n",
    "* deer\n",
    "* dog\n",
    "* frog\n",
    "* horse\n",
    "* ship\n",
    "* truck\n",
    "\n",
    "Understanding a dataset is part of making predictions on the data.  Play around with the code cell below by changing the `batch_id` and `sample_id`. The `batch_id` is the id for a batch (1-5). The `sample_id` is the id for a image and label pair in the batch.\n",
    "\n",
    "Ask yourself \"What are all possible labels?\", \"What is the range of values for the image data?\", \"Are the labels in order or random?\".  Answers to questions like these will help you preprocess the data and end up with better predictions."
   ]
  },
  {
   "cell_type": "code",
   "execution_count": 2,
   "metadata": {},
   "outputs": [
    {
     "name": "stdout",
     "output_type": "stream",
     "text": [
      "\n",
      "Stats of batch 1:\n",
      "Samples: 10000\n",
      "Label Counts: {0: 1005, 1: 974, 2: 1032, 3: 1016, 4: 999, 5: 937, 6: 1030, 7: 1001, 8: 1025, 9: 981}\n",
      "First 20 Labels: [6, 9, 9, 4, 1, 1, 2, 7, 8, 3, 4, 7, 7, 2, 9, 9, 9, 3, 2, 6]\n",
      "\n",
      "Example of Image 10:\n",
      "Image - Min Value: 24 Max Value: 130\n",
      "Image - Shape: (32, 32, 3)\n",
      "Label - Label Id: 4 Name: deer\n"
     ]
    },
    {
     "data": {
      "image/png": "[encoded data removed]",
      "text/plain": [
       "<matplotlib.figure.Figure at 0x120c9b470>"
      ]
     },
     "metadata": {
      "image/png": {
       "height": 250,
       "width": 253
      }
     },
     "output_type": "display_data"
    }
   ],
   "source": [
    "%matplotlib inline\n",
    "%config InlineBackend.figure_format = 'retina'\n",
    "\n",
    "import helper\n",
    "import numpy as np\n",
    "\n",
    "# Explore the dataset\n",
    "batch_id = 1\n",
    "sample_id = 10\n",
    "helper.display_stats(cifar10_dataset_folder_path, batch_id, sample_id)"
   ]
  },
  {
   "cell_type": "markdown",
   "metadata": {},
   "source": [
    "## Implement Preprocess Functions\n",
    "### Normalize\n",
    "In the cell below, implement the `normalize` function to take in image data, `x`, and return it as a normalized Numpy array. The values should be in the range of 0 to 1, inclusive.  The return object should be the same shape as `x`."
   ]
  },
  {
   "cell_type": "code",
   "execution_count": 3,
   "metadata": {},
   "outputs": [
    {
     "name": "stdout",
     "output_type": "stream",
     "text": [
      "Tests Passed\n"
     ]
    }
   ],
   "source": [
    "def normalize(x):\n",
    "    \"\"\"\n",
    "    Normalize a list of sample image data in the range of 0 to 1\n",
    "    : x: List of image data.  The image shape is (32, 32, 3)\n",
    "    : return: Numpy array of normalize data\n",
    "    \"\"\"\n",
    "    # TODO: Implement Function\n",
    "    maximum = x.max()\n",
    "    x_norm = x / maximum\n",
    "    \n",
    "    return x_norm\n",
    "\n",
    "\n",
    "\"\"\"\n",
    "DON'T MODIFY ANYTHING IN THIS CELL THAT IS BELOW THIS LINE\n",
    "\"\"\"\n",
    "tests.test_normalize(normalize)"
   ]
  },
  {
   "cell_type": "markdown",
   "metadata": {},
   "source": [
    "### One-hot encode\n",
    "Just like the previous code cell, you'll be implementing a function for preprocessing.  This time, you'll implement the `one_hot_encode` function. The input, `x`, are a list of labels.  Implement the function to return the list of labels as One-Hot encoded Numpy array.  The possible values for labels are 0 to 9. The one-hot encoding function should return the same encoding for each value between each call to `one_hot_encode`.  Make sure to save the map of encodings outside the function.\n",
    "\n",
    "Hint: Don't reinvent the wheel."
   ]
  },
  {
   "cell_type": "code",
   "execution_count": 4,
   "metadata": {},
   "outputs": [
    {
     "name": "stdout",
     "output_type": "stream",
     "text": [
      "Tests Passed\n"
     ]
    }
   ],
   "source": [
    "from sklearn.preprocessing import LabelBinarizer\n",
    "binarizer = LabelBinarizer()\n",
    "binarizer.fit([0,1,2,3,4,5,6,7,8,9])\n",
    "\n",
    "def one_hot_encode(x):\n",
    "    \"\"\"\n",
    "    One hot encode a list of sample labels. Return a one-hot encoded vector for each label.\n",
    "    : x: List of sample Labels\n",
    "    : return: Numpy array of one-hot encoded labels\n",
    "    \"\"\"\n",
    "    # TODO: Implement Function\n",
    "    return binarizer.transform(x)\n",
    "\n",
    "\n",
    "\"\"\"\n",
    "DON'T MODIFY ANYTHING IN THIS CELL THAT IS BELOW THIS LINE\n",
    "\"\"\"\n",
    "tests.test_one_hot_encode(one_hot_encode)"
   ]
  },
  {
   "cell_type": "markdown",
   "metadata": {},
   "source": [
    "### Randomize Data\n",
    "As you saw from exploring the data above, the order of the samples are randomized.  It doesn't hurt to randomize it again, but you don't need to for this dataset."
   ]
  },
  {
   "cell_type": "markdown",
   "metadata": {},
   "source": [
    "## Preprocess all the data and save it\n",
    "Running the code cell below will preprocess all the CIFAR-10 data and save it to file. The code below also uses 10% of the training data for validation."
   ]
  },
  {
   "cell_type": "code",
   "execution_count": null,
   "metadata": {
    "collapsed": true
   },
   "outputs": [],
   "source": [
    "\"\"\"\n",
    "DON'T MODIFY ANYTHING IN THIS CELL\n",
    "\"\"\"\n",
    "# Preprocess Training, Validation, and Testing Data\n",
    "helper.preprocess_and_save_data(cifar10_dataset_folder_path, normalize, one_hot_encode)"
   ]
  },
  {
   "cell_type": "markdown",
   "metadata": {},
   "source": [
    "# Check Point\n",
    "This is your first checkpoint.  If you ever decide to come back to this notebook or have to restart the notebook, you can start from here.  The preprocessed data has been saved to disk."
   ]
  },
  {
   "cell_type": "code",
   "execution_count": 1,
   "metadata": {
    "collapsed": true
   },
   "outputs": [],
   "source": [
    "\"\"\"\n",
    "DON'T MODIFY ANYTHING IN THIS CELL\n",
    "\"\"\"\n",
    "import pickle\n",
    "import problem_unittests as tests\n",
    "import helper\n",
    "\n",
    "# Load the Preprocessed Validation data\n",
    "valid_features, valid_labels = pickle.load(open('preprocess_validation.p', mode='rb'))"
   ]
  },
  {
   "cell_type": "markdown",
   "metadata": {},
   "source": [
    "## Build the network\n",
    "For the neural network, you'll build each layer into a function.  Most of the code you've seen has been outside of functions. To test your code more thoroughly, we require that you put each layer in a function.  This allows us to give you better feedback and test for simple mistakes using our unittests before you submit your project.\n",
    "\n",
    ">**Note:** If you're finding it hard to dedicate enough time for this course each week, we've provided a small shortcut to this part of the project. In the next couple of problems, you'll have the option to use classes from the [TensorFlow Layers](https://www.tensorflow.org/api_docs/python/tf/layers) or [TensorFlow Layers (contrib)](https://www.tensorflow.org/api_guides/python/contrib.layers) packages to build each layer, except the layers you build in the \"Convolutional and Max Pooling Layer\" section.  TF Layers is similar to Keras's and TFLearn's abstraction to layers, so it's easy to pickup.\n",
    "\n",
    ">However, if you would like to get the most out of this course, try to solve all the problems _without_ using anything from the TF Layers packages. You **can** still use classes from other packages that happen to have the same name as ones you find in TF Layers! For example, instead of using the TF Layers version of the `conv2d` class, [tf.layers.conv2d](https://www.tensorflow.org/api_docs/python/tf/layers/conv2d), you would want to use the TF Neural Network version of `conv2d`, [tf.nn.conv2d](https://www.tensorflow.org/api_docs/python/tf/nn/conv2d). \n",
    "\n",
    "Let's begin!\n",
    "\n",
    "### Input\n",
    "The neural network needs to read the image data, one-hot encoded labels, and dropout keep probability. Implement the following functions\n",
    "* Implement `neural_net_image_input`\n",
    " * Return a [TF Placeholder](https://www.tensorflow.org/api_docs/python/tf/placeholder)\n",
    " * Set the shape using `image_shape` with batch size set to `None`.\n",
    " * Name the TensorFlow placeholder \"x\" using the TensorFlow `name` parameter in the [TF Placeholder](https://www.tensorflow.org/api_docs/python/tf/placeholder).\n",
    "* Implement `neural_net_label_input`\n",
    " * Return a [TF Placeholder](https://www.tensorflow.org/api_docs/python/tf/placeholder)\n",
    " * Set the shape using `n_classes` with batch size set to `None`.\n",
    " * Name the TensorFlow placeholder \"y\" using the TensorFlow `name` parameter in the [TF Placeholder](https://www.tensorflow.org/api_docs/python/tf/placeholder).\n",
    "* Implement `neural_net_keep_prob_input`\n",
    " * Return a [TF Placeholder](https://www.tensorflow.org/api_docs/python/tf/placeholder) for dropout keep probability.\n",
    " * Name the TensorFlow placeholder \"keep_prob\" using the TensorFlow `name` parameter in the [TF Placeholder](https://www.tensorflow.org/api_docs/python/tf/placeholder).\n",
    "\n",
    "These names will be used at the end of the project to load your saved model.\n",
    "\n",
    "Note: `None` for shapes in TensorFlow allow for a dynamic size."
   ]
  },
  {
   "cell_type": "code",
   "execution_count": 2,
   "metadata": {},
   "outputs": [
    {
     "name": "stdout",
     "output_type": "stream",
     "text": [
      "Image Input Tests Passed.\n",
      "Label Input Tests Passed.\n",
      "Keep Prob Tests Passed.\n"
     ]
    }
   ],
   "source": [
    "import tensorflow as tf\n",
    "\n",
    "def neural_net_image_input(image_shape):\n",
    "    \"\"\"\n",
    "    Return a Tensor for a batch of image input\n",
    "    : image_shape: Shape of the images\n",
    "    : return: Tensor for image input.\n",
    "    \"\"\"\n",
    "    # TODO: Implement Function\n",
    "    inputs = tf.placeholder(tf.float32, [None] + list(image_shape), name = 'x')\n",
    "    return inputs\n",
    "\n",
    "\n",
    "def neural_net_label_input(n_classes):\n",
    "    \"\"\"\n",
    "    Return a Tensor for a batch of label input\n",
    "    : n_classes: Number of classes\n",
    "    : return: Tensor for label input.\n",
    "    \"\"\"\n",
    "    # TODO: Implement Function\n",
    "    label = tf.placeholder(tf.int32, [None, n_classes], name = \"y\")\n",
    "    return label\n",
    "\n",
    "\n",
    "def neural_net_keep_prob_input():\n",
    "    \"\"\"\n",
    "    Return a Tensor for keep probability\n",
    "    : return: Tensor for keep probability.\n",
    "    \"\"\"\n",
    "    # TODO: Implement Function\n",
    "    keep_prob = tf.placeholder(tf.float32, None, name = \"keep_prob\")\n",
    "    return keep_prob\n",
    "\n",
    "\n",
    "\"\"\"\n",
    "DON'T MODIFY ANYTHING IN THIS CELL THAT IS BELOW THIS LINE\n",
    "\"\"\"\n",
    "tf.reset_default_graph()\n",
    "tests.test_nn_image_inputs(neural_net_image_input)\n",
    "tests.test_nn_label_inputs(neural_net_label_input)\n",
    "tests.test_nn_keep_prob_inputs(neural_net_keep_prob_input)"
   ]
  },
  {
   "cell_type": "markdown",
   "metadata": {},
   "source": [
    "### Convolution and Max Pooling Layer\n",
    "Convolution layers have a lot of success with images. For this code cell, you should implement the function `conv2d_maxpool` to apply convolution then max pooling:\n",
    "* Create the weight and bias using `conv_ksize`, `conv_num_outputs` and the shape of `x_tensor`.\n",
    "* Apply a convolution to `x_tensor` using weight and `conv_strides`.\n",
    " * We recommend you use same padding, but you're welcome to use any padding.\n",
    "* Add bias\n",
    "* Add a nonlinear activation to the convolution.\n",
    "* Apply Max Pooling using `pool_ksize` and `pool_strides`.\n",
    " * We recommend you use same padding, but you're welcome to use any padding.\n",
    "\n",
    "**Note:** You **can't** use [TensorFlow Layers](https://www.tensorflow.org/api_docs/python/tf/layers) or [TensorFlow Layers (contrib)](https://www.tensorflow.org/api_guides/python/contrib.layers) for **this** layer, but you can still use TensorFlow's [Neural Network](https://www.tensorflow.org/api_docs/python/tf/nn) package. You may still use the shortcut option for all the **other** layers."
   ]
  },
  {
   "cell_type": "code",
   "execution_count": 3,
   "metadata": {},
   "outputs": [
    {
     "name": "stdout",
     "output_type": "stream",
     "text": [
      "Tests Passed\n"
     ]
    }
   ],
   "source": [
    "def conv2d_maxpool(x_tensor, conv_num_outputs, conv_ksize, conv_strides, pool_ksize, pool_strides):\n",
    "    \"\"\"\n",
    "    Apply convolution then max pooling to x_tensor\n",
    "    :param x_tensor: TensorFlow Tensor\n",
    "    :param conv_num_outputs: Number of outputs for the convolutional layer\n",
    "    :param conv_ksize: kernal size 2-D Tuple for the convolutional layer\n",
    "    :param conv_strides: Stride 2-D Tuple for convolution\n",
    "    :param pool_ksize: kernal size 2-D Tuple for pool\n",
    "    :param pool_strides: Stride 2-D Tuple for pool\n",
    "    : return: A tensor that represents convolution and max pooling of x_tensor\n",
    "    \"\"\"\n",
    "    # TODO: Implement Function\n",
    "    color_channels = x_tensor.get_shape().as_list()[3]\n",
    "    weight = tf.Variable(tf.truncated_normal([conv_ksize[0], conv_ksize[1], color_channels,conv_num_outputs]))\n",
    "    bias = tf.Variable(tf.zeros(conv_num_outputs))\n",
    "    \n",
    "    conv_cell = tf.nn.conv2d(x_tensor, weight, [1, conv_strides[0], conv_strides[1], 1], padding = \"SAME\")\n",
    "    bias_cell = tf.nn.bias_add(conv_cell, bias)\n",
    "    relu_cell = tf.nn.relu(bias_cell)\n",
    "    max_cell = tf.nn.max_pool(relu_cell,[1, pool_ksize[0], pool_ksize[1], 1],[1,pool_strides[0],pool_strides[1],1], padding = \"SAME\")\n",
    "    \n",
    "    return max_cell \n",
    "\n",
    "\n",
    "\"\"\"\n",
    "DON'T MODIFY ANYTHING IN THIS CELL THAT IS BELOW THIS LINE\n",
    "\"\"\"\n",
    "tests.test_con_pool(conv2d_maxpool)"
   ]
  },
  {
   "cell_type": "markdown",
   "metadata": {},
   "source": [
    "### Flatten Layer\n",
    "Implement the `flatten` function to change the dimension of `x_tensor` from a 4-D tensor to a 2-D tensor.  The output should be the shape (*Batch Size*, *Flattened Image Size*). Shortcut option: you can use classes from the [TensorFlow Layers](https://www.tensorflow.org/api_docs/python/tf/layers) or [TensorFlow Layers (contrib)](https://www.tensorflow.org/api_guides/python/contrib.layers) packages for this layer. For more of a challenge, only use other TensorFlow packages."
   ]
  },
  {
   "cell_type": "code",
   "execution_count": 4,
   "metadata": {},
   "outputs": [
    {
     "name": "stdout",
     "output_type": "stream",
     "text": [
      "Tests Passed\n"
     ]
    }
   ],
   "source": [
    "def flatten(x_tensor):\n",
    "    \"\"\"\n",
    "    Flatten x_tensor to (Batch Size, Flattened Image Size)\n",
    "    : x_tensor: A tensor of size (Batch Size, ...), where ... are the image dimensions.\n",
    "    : return: A tensor of size (Batch Size, Flattened Image Size).\n",
    "    \"\"\"\n",
    "    # TODO: Implement Function\n",
    "    \n",
    "    h = x_tensor.get_shape().as_list()[1]\n",
    "    w = x_tensor.get_shape().as_list()[2]\n",
    "    d = x_tensor.get_shape().as_list()[3]\n",
    "\n",
    "    return tf.reshape(x_tensor, [-1, h*w*d])\n",
    "\n",
    "\n",
    "\"\"\"\n",
    "DON'T MODIFY ANYTHING IN THIS CELL THAT IS BELOW THIS LINE\n",
    "\"\"\"\n",
    "tests.test_flatten(flatten)"
   ]
  },
  {
   "cell_type": "markdown",
   "metadata": {},
   "source": [
    "### Fully-Connected Layer\n",
    "Implement the `fully_conn` function to apply a fully connected layer to `x_tensor` with the shape (*Batch Size*, *num_outputs*). Shortcut option: you can use classes from the [TensorFlow Layers](https://www.tensorflow.org/api_docs/python/tf/layers) or [TensorFlow Layers (contrib)](https://www.tensorflow.org/api_guides/python/contrib.layers) packages for this layer. For more of a challenge, only use other TensorFlow packages."
   ]
  },
  {
   "cell_type": "code",
   "execution_count": 5,
   "metadata": {},
   "outputs": [
    {
     "name": "stdout",
     "output_type": "stream",
     "text": [
      "Tests Passed\n"
     ]
    }
   ],
   "source": [
    "def fully_conn(x_tensor, num_outputs):\n",
    "    \"\"\"\n",
    "    Apply a fully connected layer to x_tensor using weight and bias\n",
    "    : x_tensor: A 2-D tensor where the first dimension is batch size.\n",
    "    : num_outputs: The number of output that the new tensor should be.\n",
    "    : return: A 2-D tensor where the second dimension is num_outputs.\n",
    "    \"\"\"\n",
    "    # TODO: Implement Function\n",
    "    cell = tf.contrib.layers.fully_connected(x_tensor,num_outputs)\n",
    "    return cell\n",
    "\n",
    "\n",
    "\"\"\"\n",
    "DON'T MODIFY ANYTHING IN THIS CELL THAT IS BELOW THIS LINE\n",
    "\"\"\"\n",
    "tests.test_fully_conn(fully_conn)"
   ]
  },
  {
   "cell_type": "markdown",
   "metadata": {},
   "source": [
    "### Output Layer\n",
    "Implement the `output` function to apply a fully connected layer to `x_tensor` with the shape (*Batch Size*, *num_outputs*). Shortcut option: you can use classes from the [TensorFlow Layers](https://www.tensorflow.org/api_docs/python/tf/layers) or [TensorFlow Layers (contrib)](https://www.tensorflow.org/api_guides/python/contrib.layers) packages for this layer. For more of a challenge, only use other TensorFlow packages.\n",
    "\n",
    "**Note:** Activation, softmax, or cross entropy should **not** be applied to this."
   ]
  },
  {
   "cell_type": "code",
   "execution_count": 6,
   "metadata": {},
   "outputs": [
    {
     "name": "stdout",
     "output_type": "stream",
     "text": [
      "Tests Passed\n"
     ]
    }
   ],
   "source": [
    "def output(x_tensor, num_outputs):\n",
    "    \"\"\"\n",
    "    Apply a output layer to x_tensor using weight and bias\n",
    "    : x_tensor: A 2-D tensor where the first dimension is batch size.\n",
    "    : num_outputs: The number of output that the new tensor should be.\n",
    "    : return: A 2-D tensor where the second dimension is num_outputs.\n",
    "    \"\"\"\n",
    "    # TODO: Implement Function\n",
    "    cell = tf.contrib.layers.fully_connected(x_tensor,num_outputs,activation_fn = None)\n",
    "    return cell\n",
    "\n",
    "\n",
    "\"\"\"\n",
    "DON'T MODIFY ANYTHING IN THIS CELL THAT IS BELOW THIS LINE\n",
    "\"\"\"\n",
    "tests.test_output(output)"
   ]
  },
  {
   "cell_type": "markdown",
   "metadata": {},
   "source": [
    "### Create Convolutional Model\n",
    "Implement the function `conv_net` to create a convolutional neural network model. The function takes in a batch of images, `x`, and outputs logits.  Use the layers you created above to create this model:\n",
    "\n",
    "* Apply 1, 2, or 3 Convolution and Max Pool layers\n",
    "* Apply a Flatten Layer\n",
    "* Apply 1, 2, or 3 Fully Connected Layers\n",
    "* Apply an Output Layer\n",
    "* Return the output\n",
    "* Apply [TensorFlow's Dropout](https://www.tensorflow.org/api_docs/python/tf/nn/dropout) to one or more layers in the model using `keep_prob`. "
   ]
  },
  {
   "cell_type": "code",
   "execution_count": 17,
   "metadata": {},
   "outputs": [
    {
     "name": "stdout",
     "output_type": "stream",
     "text": [
      "Tensor(\"Reshape:0\", shape=(?, 16384), dtype=float32)\n",
      "Tensor(\"Reshape_4:0\", shape=(?, 16384), dtype=float32)\n",
      "Neural Network Built!\n"
     ]
    }
   ],
   "source": [
    "def conv_net(x, keep_prob):\n",
    "    \"\"\"\n",
    "    Create a convolutional neural network model\n",
    "    : x: Placeholder tensor that holds image data.\n",
    "    : keep_prob: Placeholder tensor that hold dropout keep probability.\n",
    "    : return: Tensor that represents logits\n",
    "    \"\"\"\n",
    "    # TODO: Apply 1, 2, or 3 Convolution and Max Pool layers\n",
    "    #    Play around with different number of outputs, kernel size and stride\n",
    "    # Function Definition from Above:\n",
    "    #    conv2d_maxpool(x_tensor, conv_num_outputs, conv_ksize, conv_strides, pool_ksize, pool_strides)\n",
    "    conv_num_outputs = 96\n",
    "    conv_ksize = [3,3]\n",
    "    conv_strides = [2,2]\n",
    "    pool_ksize = [3,3]\n",
    "    pool_strides = [2,2]\n",
    "    \n",
    "    conv_layer1 = conv2d_maxpool(x, conv_num_outputs, conv_ksize, conv_strides, pool_ksize, pool_strides)\n",
    "    conv_layer2 = conv2d_maxpool(conv_layer1, 96, conv_ksize, conv_strides, pool_ksize, pool_strides)\n",
    "    conv_layer3 = conv2d_maxpool(conv_layer2, 192, conv_ksize, conv_strides, pool_ksize, pool_strides)\n",
    "    conv_layer4 = conv2d_maxpool(conv_layer2, 192, conv_ksize, conv_strides, pool_ksize, pool_strides)\n",
    "\n",
    "    conv_layer5 = conv2d_maxpool(conv_layer4, 192, conv_ksize, conv_strides, pool_ksize, pool_strides)\n",
    "    conv_layer6 = conv2d_maxpool(conv_layer5, 192, [1, 1], conv_strides, pool_ksize, pool_strides)\n",
    "    conv_layer7 = conv2d_maxpool(conv_layer6, 10, [1,1], conv_strides, pool_ksize, pool_strides)\n",
    "    conv_layer8 = conv2d_maxpool(conv_layer7, 196, conv_ksize, conv_strides, pool_ksize, pool_strides)\n",
    "    # TODO: Apply a Flatten Layer\n",
    "    # Function Definition from Above:\n",
    "    #   flatten(x_tensor)\n",
    "    flatten_layer = flatten(conv_layer2)\n",
    "    \n",
    "    print(flatten_layer)\n",
    "    # TODO: Apply 1, 2, or 3 Fully Connected Layers\n",
    "    #    Play around with different number of outputs\n",
    "    # Function Definition from Above:\n",
    "    #   fully_conn(x_tensor, num_outputs)\n",
    "    fully_conn_layer = fully_conn(flatten_layer, 2048)\n",
    "    fully_conn_layer1 = fully_conn(fully_conn_layer, 512)\n",
    "    fully_conn_layer2 = fully_conn(fully_conn_layer1, 128)\n",
    "    # TODO: Apply an Output Layer\n",
    "    #    Set this to the number of classes\n",
    "    # Function Definition from Above:\n",
    "    #   output(x_tensor, num_outputs)\n",
    "    output_layer = output(fully_conn_layer1,10)\n",
    "    \n",
    "    # TODO: return output\n",
    "    return output_layer\n",
    "\n",
    "\n",
    "\"\"\"\n",
    "DON'T MODIFY ANYTHING IN THIS CELL THAT IS BELOW THIS LINE\n",
    "\"\"\"\n",
    "\n",
    "##############################\n",
    "## Build the Neural Network ##\n",
    "##############################\n",
    "\n",
    "# Remove previous weights, bias, inputs, etc..\n",
    "tf.reset_default_graph()\n",
    "\n",
    "# Inputs\n",
    "x = neural_net_image_input((32, 32, 3))\n",
    "y = neural_net_label_input(10)\n",
    "keep_prob = neural_net_keep_prob_input()\n",
    "\n",
    "# Model\n",
    "logits = conv_net(x, keep_prob)\n",
    "\n",
    "# Name logits Tensor, so that is can be loaded from disk after training\n",
    "logits = tf.identity(logits, name='logits')\n",
    "\n",
    "# Loss and Optimizer\n",
    "cost = tf.reduce_mean(tf.nn.softmax_cross_entropy_with_logits(logits=logits, labels=y))\n",
    "optimizer = tf.train.AdamOptimizer().minimize(cost)\n",
    "\n",
    "# Accuracy\n",
    "correct_pred = tf.equal(tf.argmax(logits, 1), tf.argmax(y, 1))\n",
    "accuracy = tf.reduce_mean(tf.cast(correct_pred, tf.float32), name='accuracy')\n",
    "\n",
    "tests.test_conv_net(conv_net)"
   ]
  },
  {
   "cell_type": "markdown",
   "metadata": {},
   "source": [
    "## Train the Neural Network\n",
    "### Single Optimization\n",
    "Implement the function `train_neural_network` to do a single optimization.  The optimization should use `optimizer` to optimize in `session` with a `feed_dict` of the following:\n",
    "* `x` for image input\n",
    "* `y` for labels\n",
    "* `keep_prob` for keep probability for dropout\n",
    "\n",
    "This function will be called for each batch, so `tf.global_variables_initializer()` has already been called.\n",
    "\n",
    "Note: Nothing needs to be returned. This function is only optimizing the neural network."
   ]
  },
  {
   "cell_type": "code",
   "execution_count": 18,
   "metadata": {},
   "outputs": [
    {
     "name": "stdout",
     "output_type": "stream",
     "text": [
      "Tests Passed\n"
     ]
    }
   ],
   "source": [
    "def train_neural_network(session, optimizer, keep_probability, feature_batch, label_batch):\n",
    "    \"\"\"\n",
    "    Optimize the session on a batch of images and labels\n",
    "    : session: Current TensorFlow session\n",
    "    : optimizer: TensorFlow optimizer function\n",
    "    : keep_probability: keep probability\n",
    "    : feature_batch: Batch of Numpy image data\n",
    "    : label_batch: Batch of Numpy label data\n",
    "    \"\"\"\n",
    "    # TODO: Implement Function\n",
    " \n",
    "    #x = neural_net_image_input(feature_batch.shape[1:])\n",
    "    #y = neural_net_label_input(label_batch.shape[1])\n",
    "    #keep_prob_tensor = neural_net_keep_prob_input()\n",
    "    feed_dict={x:feature_batch, y:label_batch, keep_prob:keep_probability}\n",
    "    \n",
    "    #logits = conv_net(x, keep_prob)\n",
    "    #cross_entropy = tf.nn.softmax_cross_entropy_with_logits(labels=y, logits=logits)\n",
    "    #loss = tf.reduce_mean(cross_entropy)\n",
    "    #train_op = optimizer.minimize(loss)\n",
    "    \n",
    "    session.run(optimizer,feed_dict=feed_dict)\n",
    "\n",
    "\"\"\"\n",
    "DON'T MODIFY ANYTHING IN THIS CELL THAT IS BELOW THIS LINE\n",
    "\"\"\"\n",
    "tests.test_train_nn(train_neural_network)"
   ]
  },
  {
   "cell_type": "markdown",
   "metadata": {},
   "source": [
    "### Show Stats\n",
    "Implement the function `print_stats` to print loss and validation accuracy.  Use the global variables `valid_features` and `valid_labels` to calculate validation accuracy.  Use a keep probability of `1.0` to calculate the loss and validation accuracy."
   ]
  },
  {
   "cell_type": "code",
   "execution_count": 19,
   "metadata": {
    "collapsed": true
   },
   "outputs": [],
   "source": [
    "def print_stats(session, feature_batch, label_batch, cost, accuracy):\n",
    "    \"\"\"\n",
    "    Print information about loss and validation accuracy\n",
    "    : session: Current TensorFlow session\n",
    "    : feature_batch: Batch of Numpy image data\n",
    "    : label_batch: Batch of Numpy label data\n",
    "    : cost: TensorFlow cost function\n",
    "    : accuracy: TensorFlow accuracy function\n",
    "    \"\"\"\n",
    "    # TODO: Implement Function\n",
    "    feed_dict_loss = {x: feature_batch, y: label_batch, keep_prob:1.0}\n",
    "    feed_dict_acc = {x:valid_features, y:valid_labels, keep_prob:1.0}\n",
    "    \n",
    "    cost = sess.run(cost, feed_dict=feed_dict_loss)\n",
    "    accuracy = sess.run(accuracy, feed_dict=feed_dict_acc)\n",
    "    print('Cost:{:}, Accuracy:{:} '.format(cost, accuracy))"
   ]
  },
  {
   "cell_type": "markdown",
   "metadata": {},
   "source": [
    "### Hyperparameters\n",
    "Tune the following parameters:\n",
    "* Set `epochs` to the number of iterations until the network stops learning or start overfitting\n",
    "* Set `batch_size` to the highest number that your machine has memory for.  Most people set them to common sizes of memory:\n",
    " * 64\n",
    " * 128\n",
    " * 256\n",
    " * ...\n",
    "* Set `keep_probability` to the probability of keeping a node using dropout"
   ]
  },
  {
   "cell_type": "code",
   "execution_count": 20,
   "metadata": {
    "collapsed": true
   },
   "outputs": [],
   "source": [
    "# TODO: Tune Parameters\n",
    "epochs = 30\n",
    "batch_size = 512\n",
    "keep_probability = 0.5"
   ]
  },
  {
   "cell_type": "markdown",
   "metadata": {},
   "source": [
    "### Train on a Single CIFAR-10 Batch\n",
    "Instead of training the neural network on all the CIFAR-10 batches of data, let's use a single batch. This should save time while you iterate on the model to get a better accuracy.  Once the final validation accuracy is 50% or greater, run the model on all the data in the next section."
   ]
  },
  {
   "cell_type": "code",
   "execution_count": 22,
   "metadata": {},
   "outputs": [
    {
     "name": "stdout",
     "output_type": "stream",
     "text": [
      "Checking the Training on a Single Batch...\n",
      "Epoch  1, CIFAR-10 Batch 1:  Cost:88.71725463867188, Accuracy:0.09679999947547913 \n",
      "Epoch  2, CIFAR-10 Batch 1:  Cost:19.594707489013672, Accuracy:0.16259999573230743 \n",
      "Epoch  3, CIFAR-10 Batch 1:  Cost:8.07750415802002, Accuracy:0.11079999804496765 \n",
      "Epoch  4, CIFAR-10 Batch 1:  Cost:2.836280107498169, Accuracy:0.2955999970436096 \n",
      "Epoch  5, CIFAR-10 Batch 1:  Cost:2.368640422821045, Accuracy:0.31940001249313354 \n",
      "Epoch  6, CIFAR-10 Batch 1:  Cost:1.6672389507293701, Accuracy:0.3968000113964081 \n",
      "Epoch  7, CIFAR-10 Batch 1:  Cost:1.959911823272705, Accuracy:0.30880001187324524 \n",
      "Epoch  8, CIFAR-10 Batch 1:  Cost:2.4188711643218994, Accuracy:0.30660000443458557 \n",
      "Epoch  9, CIFAR-10 Batch 1:  Cost:2.886235475540161, Accuracy:0.31940001249313354 \n",
      "Epoch 10, CIFAR-10 Batch 1:  Cost:2.975271224975586, Accuracy:0.26100000739097595 \n"
     ]
    },
    {
     "ename": "KeyboardInterrupt",
     "evalue": "",
     "output_type": "error",
     "traceback": [
      "\u001b[0;31m---------------------------------------------------------------------------\u001b[0m",
      "\u001b[0;31mKeyboardInterrupt\u001b[0m                         Traceback (most recent call last)",
      "\u001b[0;32m<ipython-input-22-a5c7b691134d>\u001b[0m in \u001b[0;36m<module>\u001b[0;34m()\u001b[0m\n\u001b[1;32m     13\u001b[0m         \u001b[0mbatch_i\u001b[0m \u001b[0;34m=\u001b[0m \u001b[0;36m1\u001b[0m\u001b[0;34m\u001b[0m\u001b[0m\n\u001b[1;32m     14\u001b[0m         \u001b[0;32mfor\u001b[0m \u001b[0mbatch_features\u001b[0m\u001b[0;34m,\u001b[0m \u001b[0mbatch_labels\u001b[0m \u001b[0;32min\u001b[0m \u001b[0mhelper\u001b[0m\u001b[0;34m.\u001b[0m\u001b[0mload_preprocess_training_batch\u001b[0m\u001b[0;34m(\u001b[0m\u001b[0mbatch_i\u001b[0m\u001b[0;34m,\u001b[0m \u001b[0mbatch_size\u001b[0m\u001b[0;34m)\u001b[0m\u001b[0;34m:\u001b[0m\u001b[0;34m\u001b[0m\u001b[0m\n\u001b[0;32m---> 15\u001b[0;31m             \u001b[0mtrain_neural_network\u001b[0m\u001b[0;34m(\u001b[0m\u001b[0msess\u001b[0m\u001b[0;34m,\u001b[0m \u001b[0moptimizer\u001b[0m\u001b[0;34m,\u001b[0m \u001b[0mkeep_probability\u001b[0m\u001b[0;34m,\u001b[0m \u001b[0mbatch_features\u001b[0m\u001b[0;34m,\u001b[0m \u001b[0mbatch_labels\u001b[0m\u001b[0;34m)\u001b[0m\u001b[0;34m\u001b[0m\u001b[0m\n\u001b[0m\u001b[1;32m     16\u001b[0m         \u001b[0mprint\u001b[0m\u001b[0;34m(\u001b[0m\u001b[0;34m'Epoch {:>2}, CIFAR-10 Batch {}:  '\u001b[0m\u001b[0;34m.\u001b[0m\u001b[0mformat\u001b[0m\u001b[0;34m(\u001b[0m\u001b[0mepoch\u001b[0m \u001b[0;34m+\u001b[0m \u001b[0;36m1\u001b[0m\u001b[0;34m,\u001b[0m \u001b[0mbatch_i\u001b[0m\u001b[0;34m)\u001b[0m\u001b[0;34m,\u001b[0m \u001b[0mend\u001b[0m\u001b[0;34m=\u001b[0m\u001b[0;34m''\u001b[0m\u001b[0;34m)\u001b[0m\u001b[0;34m\u001b[0m\u001b[0m\n\u001b[1;32m     17\u001b[0m         \u001b[0mprint_stats\u001b[0m\u001b[0;34m(\u001b[0m\u001b[0msess\u001b[0m\u001b[0;34m,\u001b[0m \u001b[0mbatch_features\u001b[0m\u001b[0;34m,\u001b[0m \u001b[0mbatch_labels\u001b[0m\u001b[0;34m,\u001b[0m \u001b[0mcost\u001b[0m\u001b[0;34m,\u001b[0m \u001b[0maccuracy\u001b[0m\u001b[0;34m)\u001b[0m\u001b[0;34m\u001b[0m\u001b[0m\n",
      "\u001b[0;32m<ipython-input-18-03f895f659c8>\u001b[0m in \u001b[0;36mtrain_neural_network\u001b[0;34m(session, optimizer, keep_probability, feature_batch, label_batch)\u001b[0m\n\u001b[1;32m     20\u001b[0m     \u001b[0;31m#train_op = optimizer.minimize(loss)\u001b[0m\u001b[0;34m\u001b[0m\u001b[0;34m\u001b[0m\u001b[0m\n\u001b[1;32m     21\u001b[0m \u001b[0;34m\u001b[0m\u001b[0m\n\u001b[0;32m---> 22\u001b[0;31m     \u001b[0msession\u001b[0m\u001b[0;34m.\u001b[0m\u001b[0mrun\u001b[0m\u001b[0;34m(\u001b[0m\u001b[0moptimizer\u001b[0m\u001b[0;34m,\u001b[0m\u001b[0mfeed_dict\u001b[0m\u001b[0;34m=\u001b[0m\u001b[0mfeed_dict\u001b[0m\u001b[0;34m)\u001b[0m\u001b[0;34m\u001b[0m\u001b[0m\n\u001b[0m\u001b[1;32m     23\u001b[0m \u001b[0;34m\u001b[0m\u001b[0m\n\u001b[1;32m     24\u001b[0m \"\"\"\n",
      "\u001b[0;32m~/anaconda/envs/dlnd/lib/python3.5/site-packages/tensorflow/python/client/session.py\u001b[0m in \u001b[0;36mrun\u001b[0;34m(self, fetches, feed_dict, options, run_metadata)\u001b[0m\n\u001b[1;32m    776\u001b[0m     \u001b[0;32mtry\u001b[0m\u001b[0;34m:\u001b[0m\u001b[0;34m\u001b[0m\u001b[0m\n\u001b[1;32m    777\u001b[0m       result = self._run(None, fetches, feed_dict, options_ptr,\n\u001b[0;32m--> 778\u001b[0;31m                          run_metadata_ptr)\n\u001b[0m\u001b[1;32m    779\u001b[0m       \u001b[0;32mif\u001b[0m \u001b[0mrun_metadata\u001b[0m\u001b[0;34m:\u001b[0m\u001b[0;34m\u001b[0m\u001b[0m\n\u001b[1;32m    780\u001b[0m         \u001b[0mproto_data\u001b[0m \u001b[0;34m=\u001b[0m \u001b[0mtf_session\u001b[0m\u001b[0;34m.\u001b[0m\u001b[0mTF_GetBuffer\u001b[0m\u001b[0;34m(\u001b[0m\u001b[0mrun_metadata_ptr\u001b[0m\u001b[0;34m)\u001b[0m\u001b[0;34m\u001b[0m\u001b[0m\n",
      "\u001b[0;32m~/anaconda/envs/dlnd/lib/python3.5/site-packages/tensorflow/python/client/session.py\u001b[0m in \u001b[0;36m_run\u001b[0;34m(self, handle, fetches, feed_dict, options, run_metadata)\u001b[0m\n\u001b[1;32m    980\u001b[0m     \u001b[0;32mif\u001b[0m \u001b[0mfinal_fetches\u001b[0m \u001b[0;32mor\u001b[0m \u001b[0mfinal_targets\u001b[0m\u001b[0;34m:\u001b[0m\u001b[0;34m\u001b[0m\u001b[0m\n\u001b[1;32m    981\u001b[0m       results = self._do_run(handle, final_targets, final_fetches,\n\u001b[0;32m--> 982\u001b[0;31m                              feed_dict_string, options, run_metadata)\n\u001b[0m\u001b[1;32m    983\u001b[0m     \u001b[0;32melse\u001b[0m\u001b[0;34m:\u001b[0m\u001b[0;34m\u001b[0m\u001b[0m\n\u001b[1;32m    984\u001b[0m       \u001b[0mresults\u001b[0m \u001b[0;34m=\u001b[0m \u001b[0;34m[\u001b[0m\u001b[0;34m]\u001b[0m\u001b[0;34m\u001b[0m\u001b[0m\n",
      "\u001b[0;32m~/anaconda/envs/dlnd/lib/python3.5/site-packages/tensorflow/python/client/session.py\u001b[0m in \u001b[0;36m_do_run\u001b[0;34m(self, handle, target_list, fetch_list, feed_dict, options, run_metadata)\u001b[0m\n\u001b[1;32m   1030\u001b[0m     \u001b[0;32mif\u001b[0m \u001b[0mhandle\u001b[0m \u001b[0;32mis\u001b[0m \u001b[0;32mNone\u001b[0m\u001b[0;34m:\u001b[0m\u001b[0;34m\u001b[0m\u001b[0m\n\u001b[1;32m   1031\u001b[0m       return self._do_call(_run_fn, self._session, feed_dict, fetch_list,\n\u001b[0;32m-> 1032\u001b[0;31m                            target_list, options, run_metadata)\n\u001b[0m\u001b[1;32m   1033\u001b[0m     \u001b[0;32melse\u001b[0m\u001b[0;34m:\u001b[0m\u001b[0;34m\u001b[0m\u001b[0m\n\u001b[1;32m   1034\u001b[0m       return self._do_call(_prun_fn, self._session, handle, feed_dict,\n",
      "\u001b[0;32m~/anaconda/envs/dlnd/lib/python3.5/site-packages/tensorflow/python/client/session.py\u001b[0m in \u001b[0;36m_do_call\u001b[0;34m(self, fn, *args)\u001b[0m\n\u001b[1;32m   1037\u001b[0m   \u001b[0;32mdef\u001b[0m \u001b[0m_do_call\u001b[0m\u001b[0;34m(\u001b[0m\u001b[0mself\u001b[0m\u001b[0;34m,\u001b[0m \u001b[0mfn\u001b[0m\u001b[0;34m,\u001b[0m \u001b[0;34m*\u001b[0m\u001b[0margs\u001b[0m\u001b[0;34m)\u001b[0m\u001b[0;34m:\u001b[0m\u001b[0;34m\u001b[0m\u001b[0m\n\u001b[1;32m   1038\u001b[0m     \u001b[0;32mtry\u001b[0m\u001b[0;34m:\u001b[0m\u001b[0;34m\u001b[0m\u001b[0m\n\u001b[0;32m-> 1039\u001b[0;31m       \u001b[0;32mreturn\u001b[0m \u001b[0mfn\u001b[0m\u001b[0;34m(\u001b[0m\u001b[0;34m*\u001b[0m\u001b[0margs\u001b[0m\u001b[0;34m)\u001b[0m\u001b[0;34m\u001b[0m\u001b[0m\n\u001b[0m\u001b[1;32m   1040\u001b[0m     \u001b[0;32mexcept\u001b[0m \u001b[0merrors\u001b[0m\u001b[0;34m.\u001b[0m\u001b[0mOpError\u001b[0m \u001b[0;32mas\u001b[0m \u001b[0me\u001b[0m\u001b[0;34m:\u001b[0m\u001b[0;34m\u001b[0m\u001b[0m\n\u001b[1;32m   1041\u001b[0m       \u001b[0mmessage\u001b[0m \u001b[0;34m=\u001b[0m \u001b[0mcompat\u001b[0m\u001b[0;34m.\u001b[0m\u001b[0mas_text\u001b[0m\u001b[0;34m(\u001b[0m\u001b[0me\u001b[0m\u001b[0;34m.\u001b[0m\u001b[0mmessage\u001b[0m\u001b[0;34m)\u001b[0m\u001b[0;34m\u001b[0m\u001b[0m\n",
      "\u001b[0;32m~/anaconda/envs/dlnd/lib/python3.5/site-packages/tensorflow/python/client/session.py\u001b[0m in \u001b[0;36m_run_fn\u001b[0;34m(session, feed_dict, fetch_list, target_list, options, run_metadata)\u001b[0m\n\u001b[1;32m   1019\u001b[0m         return tf_session.TF_Run(session, options,\n\u001b[1;32m   1020\u001b[0m                                  \u001b[0mfeed_dict\u001b[0m\u001b[0;34m,\u001b[0m \u001b[0mfetch_list\u001b[0m\u001b[0;34m,\u001b[0m \u001b[0mtarget_list\u001b[0m\u001b[0;34m,\u001b[0m\u001b[0;34m\u001b[0m\u001b[0m\n\u001b[0;32m-> 1021\u001b[0;31m                                  status, run_metadata)\n\u001b[0m\u001b[1;32m   1022\u001b[0m \u001b[0;34m\u001b[0m\u001b[0m\n\u001b[1;32m   1023\u001b[0m     \u001b[0;32mdef\u001b[0m \u001b[0m_prun_fn\u001b[0m\u001b[0;34m(\u001b[0m\u001b[0msession\u001b[0m\u001b[0;34m,\u001b[0m \u001b[0mhandle\u001b[0m\u001b[0;34m,\u001b[0m \u001b[0mfeed_dict\u001b[0m\u001b[0;34m,\u001b[0m \u001b[0mfetch_list\u001b[0m\u001b[0;34m)\u001b[0m\u001b[0;34m:\u001b[0m\u001b[0;34m\u001b[0m\u001b[0m\n",
      "\u001b[0;31mKeyboardInterrupt\u001b[0m: "
     ]
    }
   ],
   "source": [
    "\"\"\"\n",
    "DON'T MODIFY ANYTHING IN THIS CELL\n",
    "\"\"\"\n",
    "import time\n",
    "curr = time.time()\n",
    "print('Checking the Training on a Single Batch...')\n",
    "with tf.Session() as sess:\n",
    "    # Initializing the variables\n",
    "    sess.run(tf.global_variables_initializer())\n",
    "    \n",
    "    # Training cycle\n",
    "    for epoch in range(epochs):\n",
    "        batch_i = 1\n",
    "        for batch_features, batch_labels in helper.load_preprocess_training_batch(batch_i, batch_size):\n",
    "            train_neural_network(sess, optimizer, keep_probability, batch_features, batch_labels)\n",
    "        print('Epoch {:>2}, CIFAR-10 Batch {}:  '.format(epoch + 1, batch_i), end='')\n",
    "        print_stats(sess, batch_features, batch_labels, cost, accuracy)\n",
    "print(time.time() - curr)"
   ]
  },
  {
   "cell_type": "markdown",
   "metadata": {},
   "source": [
    "### Fully Train the Model\n",
    "Now that you got a good accuracy with a single CIFAR-10 batch, try it with all five batches."
   ]
  },
  {
   "cell_type": "code",
   "execution_count": 28,
   "metadata": {},
   "outputs": [
    {
     "name": "stdout",
     "output_type": "stream",
     "text": [
      "Training...\n",
      "Epoch  1, CIFAR-10 Batch 1:  Cost:15.836869239807129, Accuracy:0.19059999287128448 \n",
      "Epoch  1, CIFAR-10 Batch 2:  Cost:4.930638313293457, Accuracy:0.17499999701976776 \n",
      "Epoch  1, CIFAR-10 Batch 3:  Cost:2.297801971435547, Accuracy:0.24619999527931213 \n",
      "Epoch  1, CIFAR-10 Batch 4:  Cost:1.903909683227539, Accuracy:0.3084000051021576 \n",
      "Epoch  1, CIFAR-10 Batch 5:  Cost:1.9114612340927124, Accuracy:0.35280001163482666 \n",
      "Epoch  2, CIFAR-10 Batch 1:  Cost:1.8741587400436401, Accuracy:0.365200012922287 \n",
      "Epoch  2, CIFAR-10 Batch 2:  Cost:1.6095554828643799, Accuracy:0.3862000107765198 \n",
      "Epoch  2, CIFAR-10 Batch 3:  Cost:1.6186493635177612, Accuracy:0.4113999903202057 \n",
      "Epoch  2, CIFAR-10 Batch 4:  Cost:1.5158474445343018, Accuracy:0.4309999942779541 \n",
      "Epoch  2, CIFAR-10 Batch 5:  Cost:1.6155047416687012, Accuracy:0.41620001196861267 \n",
      "Epoch  3, CIFAR-10 Batch 1:  Cost:1.5844910144805908, Accuracy:0.45500001311302185 \n",
      "Epoch  3, CIFAR-10 Batch 2:  Cost:1.4182428121566772, Accuracy:0.4277999997138977 \n",
      "Epoch  3, CIFAR-10 Batch 3:  Cost:1.4383151531219482, Accuracy:0.45739999413490295 \n",
      "Epoch  3, CIFAR-10 Batch 4:  Cost:1.327317476272583, Accuracy:0.47839999198913574 \n",
      "Epoch  3, CIFAR-10 Batch 5:  Cost:1.4147623777389526, Accuracy:0.4684000015258789 \n",
      "Epoch  4, CIFAR-10 Batch 1:  Cost:1.4330185651779175, Accuracy:0.4950000047683716 \n",
      "Epoch  4, CIFAR-10 Batch 2:  Cost:1.2946697473526, Accuracy:0.4729999899864197 \n",
      "Epoch  4, CIFAR-10 Batch 3:  Cost:1.259657621383667, Accuracy:0.498199999332428 \n",
      "Epoch  4, CIFAR-10 Batch 4:  Cost:1.183062195777893, Accuracy:0.5080000162124634 \n",
      "Epoch  4, CIFAR-10 Batch 5:  Cost:1.3339787721633911, Accuracy:0.48240000009536743 \n",
      "Epoch  5, CIFAR-10 Batch 1:  Cost:1.333701491355896, Accuracy:0.5138000249862671 \n",
      "Epoch  5, CIFAR-10 Batch 2:  Cost:1.226689338684082, Accuracy:0.4885999858379364 \n",
      "Epoch  5, CIFAR-10 Batch 3:  Cost:1.1869006156921387, Accuracy:0.5080000162124634 \n",
      "Epoch  5, CIFAR-10 Batch 4:  Cost:1.156667947769165, Accuracy:0.49540001153945923 \n",
      "Epoch  5, CIFAR-10 Batch 5:  Cost:1.2464702129364014, Accuracy:0.4966000020503998 \n",
      "Epoch  6, CIFAR-10 Batch 1:  Cost:1.2513233423233032, Accuracy:0.5216000080108643 \n",
      "Epoch  6, CIFAR-10 Batch 2:  Cost:1.1707050800323486, Accuracy:0.4957999885082245 \n",
      "Epoch  6, CIFAR-10 Batch 3:  Cost:1.1319148540496826, Accuracy:0.5103999972343445 \n",
      "Epoch  6, CIFAR-10 Batch 4:  Cost:1.0666742324829102, Accuracy:0.519599974155426 \n",
      "Epoch  6, CIFAR-10 Batch 5:  Cost:1.1767610311508179, Accuracy:0.5117999911308289 \n",
      "Epoch  7, CIFAR-10 Batch 1:  Cost:1.1918948888778687, Accuracy:0.5302000045776367 \n",
      "Epoch  7, CIFAR-10 Batch 2:  Cost:1.1477572917938232, Accuracy:0.4966000020503998 \n",
      "Epoch  7, CIFAR-10 Batch 3:  Cost:1.0620448589324951, Accuracy:0.5253999829292297 \n",
      "Epoch  7, CIFAR-10 Batch 4:  Cost:1.0243028402328491, Accuracy:0.5206000208854675 \n",
      "Epoch  7, CIFAR-10 Batch 5:  Cost:1.1050212383270264, Accuracy:0.5184000134468079 \n",
      "Epoch  8, CIFAR-10 Batch 1:  Cost:1.1548449993133545, Accuracy:0.5281999707221985 \n",
      "Epoch  8, CIFAR-10 Batch 2:  Cost:1.1766297817230225, Accuracy:0.4828000068664551 \n",
      "Epoch  8, CIFAR-10 Batch 3:  Cost:1.0130751132965088, Accuracy:0.545199990272522 \n",
      "Epoch  8, CIFAR-10 Batch 4:  Cost:1.0186622142791748, Accuracy:0.5203999876976013 \n",
      "Epoch  8, CIFAR-10 Batch 5:  Cost:1.0379390716552734, Accuracy:0.5266000032424927 \n",
      "Epoch  9, CIFAR-10 Batch 1:  Cost:1.0823791027069092, Accuracy:0.5436000227928162 \n",
      "Epoch  9, CIFAR-10 Batch 2:  Cost:1.1075563430786133, Accuracy:0.49459999799728394 \n",
      "Epoch  9, CIFAR-10 Batch 3:  Cost:0.9689763784408569, Accuracy:0.5496000051498413 \n",
      "Epoch  9, CIFAR-10 Batch 4:  Cost:0.9624518156051636, Accuracy:0.5289999842643738 \n",
      "Epoch  9, CIFAR-10 Batch 5:  Cost:0.9749518632888794, Accuracy:0.5386000275611877 \n",
      "Epoch 10, CIFAR-10 Batch 1:  Cost:1.0245918035507202, Accuracy:0.5454000234603882 \n",
      "Epoch 10, CIFAR-10 Batch 2:  Cost:1.0007959604263306, Accuracy:0.5090000033378601 \n",
      "Epoch 10, CIFAR-10 Batch 3:  Cost:0.9407837390899658, Accuracy:0.5437999963760376 \n",
      "Epoch 10, CIFAR-10 Batch 4:  Cost:0.8997313976287842, Accuracy:0.5368000268936157 \n",
      "Epoch 10, CIFAR-10 Batch 5:  Cost:0.9660792946815491, Accuracy:0.532800018787384 \n",
      "Epoch 11, CIFAR-10 Batch 1:  Cost:1.0049197673797607, Accuracy:0.5478000044822693 \n",
      "Epoch 11, CIFAR-10 Batch 2:  Cost:0.8941268920898438, Accuracy:0.5558000206947327 \n",
      "Epoch 11, CIFAR-10 Batch 3:  Cost:0.9356216192245483, Accuracy:0.5152000188827515 \n",
      "Epoch 11, CIFAR-10 Batch 4:  Cost:0.900139570236206, Accuracy:0.5332000255584717 \n",
      "Epoch 11, CIFAR-10 Batch 5:  Cost:0.9480939507484436, Accuracy:0.534600019454956 \n",
      "Epoch 12, CIFAR-10 Batch 1:  Cost:1.0090829133987427, Accuracy:0.5281999707221985 \n",
      "Epoch 12, CIFAR-10 Batch 2:  Cost:0.8709964156150818, Accuracy:0.5396000146865845 \n",
      "Epoch 12, CIFAR-10 Batch 3:  Cost:0.8786662220954895, Accuracy:0.5293999910354614 \n",
      "Epoch 12, CIFAR-10 Batch 4:  Cost:0.9250084161758423, Accuracy:0.5134000182151794 \n",
      "Epoch 12, CIFAR-10 Batch 5:  Cost:0.8492119312286377, Accuracy:0.5586000084877014 \n",
      "Epoch 13, CIFAR-10 Batch 1:  Cost:0.9675408601760864, Accuracy:0.5379999876022339 \n",
      "Epoch 13, CIFAR-10 Batch 2:  Cost:0.8197365403175354, Accuracy:0.5486000180244446 \n",
      "Epoch 13, CIFAR-10 Batch 3:  Cost:0.8257927894592285, Accuracy:0.5361999869346619 \n",
      "Epoch 13, CIFAR-10 Batch 4:  Cost:0.8638517260551453, Accuracy:0.5264000296592712 \n",
      "Epoch 13, CIFAR-10 Batch 5:  Cost:0.8153272867202759, Accuracy:0.5633999705314636 \n",
      "Epoch 14, CIFAR-10 Batch 1:  Cost:0.8755350112915039, Accuracy:0.5667999982833862 \n",
      "Epoch 14, CIFAR-10 Batch 2:  Cost:0.7829706072807312, Accuracy:0.5532000064849854 \n",
      "Epoch 14, CIFAR-10 Batch 3:  Cost:0.766781747341156, Accuracy:0.5491999983787537 \n",
      "Epoch 14, CIFAR-10 Batch 4:  Cost:1.017049789428711, Accuracy:0.5019999742507935 \n",
      "Epoch 14, CIFAR-10 Batch 5:  Cost:0.8114560842514038, Accuracy:0.5576000213623047 \n",
      "Epoch 15, CIFAR-10 Batch 1:  Cost:0.8270457983016968, Accuracy:0.5694000124931335 \n",
      "Epoch 15, CIFAR-10 Batch 2:  Cost:0.7539033889770508, Accuracy:0.5468000173568726 \n",
      "Epoch 15, CIFAR-10 Batch 3:  Cost:0.7259283661842346, Accuracy:0.5519999861717224 \n",
      "Epoch 15, CIFAR-10 Batch 4:  Cost:0.7534095048904419, Accuracy:0.5443999767303467 \n",
      "Epoch 15, CIFAR-10 Batch 5:  Cost:0.777168869972229, Accuracy:0.5598000288009644 \n",
      "Epoch 16, CIFAR-10 Batch 1:  Cost:0.7795122265815735, Accuracy:0.573199987411499 \n",
      "Epoch 16, CIFAR-10 Batch 2:  Cost:0.720260739326477, Accuracy:0.5501999855041504 \n",
      "Epoch 16, CIFAR-10 Batch 3:  Cost:0.7068486213684082, Accuracy:0.553600013256073 \n",
      "Epoch 16, CIFAR-10 Batch 4:  Cost:0.7039904594421387, Accuracy:0.548799991607666 \n",
      "Epoch 16, CIFAR-10 Batch 5:  Cost:0.7298883199691772, Accuracy:0.5681999921798706 \n",
      "Epoch 17, CIFAR-10 Batch 1:  Cost:0.7443037033081055, Accuracy:0.5735999941825867 \n",
      "Epoch 17, CIFAR-10 Batch 2:  Cost:0.6945439577102661, Accuracy:0.5532000064849854 \n",
      "Epoch 17, CIFAR-10 Batch 3:  Cost:0.6788283586502075, Accuracy:0.5509999990463257 \n",
      "Epoch 17, CIFAR-10 Batch 4:  Cost:0.6956677436828613, Accuracy:0.5515999794006348 \n",
      "Epoch 17, CIFAR-10 Batch 5:  Cost:0.7037729024887085, Accuracy:0.5527999997138977 \n",
      "Epoch 18, CIFAR-10 Batch 1:  Cost:0.7100929617881775, Accuracy:0.5766000151634216 \n",
      "Epoch 18, CIFAR-10 Batch 2:  Cost:0.6919193267822266, Accuracy:0.5509999990463257 \n",
      "Epoch 18, CIFAR-10 Batch 3:  Cost:0.6480164527893066, Accuracy:0.5551999807357788 \n",
      "Epoch 18, CIFAR-10 Batch 4:  Cost:0.6764771938323975, Accuracy:0.5429999828338623 \n",
      "Epoch 18, CIFAR-10 Batch 5:  Cost:0.7325659990310669, Accuracy:0.5315999984741211 \n",
      "Epoch 19, CIFAR-10 Batch 1:  Cost:0.7132512927055359, Accuracy:0.5708000063896179 \n",
      "Epoch 19, CIFAR-10 Batch 2:  Cost:0.6289937496185303, Accuracy:0.5756000280380249 \n",
      "Epoch 19, CIFAR-10 Batch 3:  Cost:0.6739330887794495, Accuracy:0.5429999828338623 \n",
      "Epoch 19, CIFAR-10 Batch 4:  Cost:0.6646741628646851, Accuracy:0.5493999719619751 \n",
      "Epoch 19, CIFAR-10 Batch 5:  Cost:0.6609545350074768, Accuracy:0.5565999746322632 \n",
      "Epoch 20, CIFAR-10 Batch 1:  Cost:0.6869400143623352, Accuracy:0.5734000205993652 \n",
      "Epoch 20, CIFAR-10 Batch 2:  Cost:0.6125004887580872, Accuracy:0.576200008392334 \n",
      "Epoch 20, CIFAR-10 Batch 3:  Cost:0.605479896068573, Accuracy:0.5537999868392944 \n",
      "Epoch 20, CIFAR-10 Batch 4:  Cost:0.5749746561050415, Accuracy:0.5753999948501587 \n"
     ]
    },
    {
     "name": "stdout",
     "output_type": "stream",
     "text": [
      "Epoch 20, CIFAR-10 Batch 5:  Cost:0.6156580448150635, Accuracy:0.5698000192642212 \n",
      "Epoch 21, CIFAR-10 Batch 1:  Cost:0.6554790139198303, Accuracy:0.5703999996185303 \n",
      "Epoch 21, CIFAR-10 Batch 2:  Cost:0.605497419834137, Accuracy:0.5784000158309937 \n",
      "Epoch 21, CIFAR-10 Batch 3:  Cost:0.5662843585014343, Accuracy:0.5630000233650208 \n",
      "Epoch 21, CIFAR-10 Batch 4:  Cost:0.53558748960495, Accuracy:0.5813999772071838 \n",
      "Epoch 21, CIFAR-10 Batch 5:  Cost:0.5715768337249756, Accuracy:0.5709999799728394 \n",
      "Epoch 22, CIFAR-10 Batch 1:  Cost:0.6343241333961487, Accuracy:0.5662000179290771 \n",
      "Epoch 22, CIFAR-10 Batch 2:  Cost:0.6207029819488525, Accuracy:0.5631999969482422 \n",
      "Epoch 22, CIFAR-10 Batch 3:  Cost:0.5432499647140503, Accuracy:0.5722000002861023 \n",
      "Epoch 22, CIFAR-10 Batch 4:  Cost:0.5421664118766785, Accuracy:0.5630000233650208 \n",
      "Epoch 22, CIFAR-10 Batch 5:  Cost:0.5714016556739807, Accuracy:0.5716000199317932 \n",
      "Epoch 23, CIFAR-10 Batch 1:  Cost:0.5919256210327148, Accuracy:0.5684000253677368 \n",
      "Epoch 23, CIFAR-10 Batch 2:  Cost:0.5709189772605896, Accuracy:0.5662000179290771 \n",
      "Epoch 23, CIFAR-10 Batch 3:  Cost:0.503822922706604, Accuracy:0.5684000253677368 \n",
      "Epoch 23, CIFAR-10 Batch 4:  Cost:0.5262807607650757, Accuracy:0.5651999711990356 \n",
      "Epoch 23, CIFAR-10 Batch 5:  Cost:0.5781800150871277, Accuracy:0.5612000226974487 \n",
      "Epoch 24, CIFAR-10 Batch 1:  Cost:0.5575584173202515, Accuracy:0.5681999921798706 \n",
      "Epoch 24, CIFAR-10 Batch 2:  Cost:0.5237716436386108, Accuracy:0.5720000267028809 \n",
      "Epoch 24, CIFAR-10 Batch 3:  Cost:0.49138909578323364, Accuracy:0.5645999908447266 \n",
      "Epoch 24, CIFAR-10 Batch 4:  Cost:0.47004956007003784, Accuracy:0.5788000226020813 \n",
      "Epoch 24, CIFAR-10 Batch 5:  Cost:0.5739191174507141, Accuracy:0.5583999752998352 \n",
      "Epoch 25, CIFAR-10 Batch 1:  Cost:0.5680655837059021, Accuracy:0.5633999705314636 \n",
      "Epoch 25, CIFAR-10 Batch 2:  Cost:0.5192738771438599, Accuracy:0.5672000050544739 \n",
      "Epoch 25, CIFAR-10 Batch 3:  Cost:0.4948509931564331, Accuracy:0.5636000037193298 \n",
      "Epoch 25, CIFAR-10 Batch 4:  Cost:0.49806660413742065, Accuracy:0.5493999719619751 \n",
      "Epoch 25, CIFAR-10 Batch 5:  Cost:0.5409185886383057, Accuracy:0.5622000098228455 \n",
      "Epoch 26, CIFAR-10 Batch 1:  Cost:0.5217143297195435, Accuracy:0.5703999996185303 \n",
      "Epoch 26, CIFAR-10 Batch 2:  Cost:0.47947975993156433, Accuracy:0.5622000098228455 \n",
      "Epoch 26, CIFAR-10 Batch 3:  Cost:0.527584969997406, Accuracy:0.5577999949455261 \n",
      "Epoch 26, CIFAR-10 Batch 4:  Cost:0.4313521981239319, Accuracy:0.5595999956130981 \n",
      "Epoch 26, CIFAR-10 Batch 5:  Cost:0.5066455006599426, Accuracy:0.5580000281333923 \n",
      "Epoch 27, CIFAR-10 Batch 1:  Cost:0.5013095140457153, Accuracy:0.5685999989509583 \n",
      "Epoch 27, CIFAR-10 Batch 2:  Cost:0.4676226079463959, Accuracy:0.5612000226974487 \n",
      "Epoch 27, CIFAR-10 Batch 3:  Cost:0.4734196066856384, Accuracy:0.5547999739646912 \n",
      "Epoch 27, CIFAR-10 Batch 4:  Cost:0.39148005843162537, Accuracy:0.5691999793052673 \n",
      "Epoch 27, CIFAR-10 Batch 5:  Cost:0.462867796421051, Accuracy:0.5623999834060669 \n",
      "Epoch 28, CIFAR-10 Batch 1:  Cost:0.4881371259689331, Accuracy:0.5565999746322632 \n",
      "Epoch 28, CIFAR-10 Batch 2:  Cost:0.41367268562316895, Accuracy:0.5673999786376953 \n",
      "Epoch 28, CIFAR-10 Batch 3:  Cost:0.38816556334495544, Accuracy:0.5745999813079834 \n",
      "Epoch 28, CIFAR-10 Batch 4:  Cost:0.3842012286186218, Accuracy:0.5609999895095825 \n",
      "Epoch 28, CIFAR-10 Batch 5:  Cost:0.41976845264434814, Accuracy:0.5717999935150146 \n",
      "Epoch 29, CIFAR-10 Batch 1:  Cost:0.4466956853866577, Accuracy:0.5612000226974487 \n",
      "Epoch 29, CIFAR-10 Batch 2:  Cost:0.373778373003006, Accuracy:0.5756000280380249 \n",
      "Epoch 29, CIFAR-10 Batch 3:  Cost:0.3736160695552826, Accuracy:0.5784000158309937 \n",
      "Epoch 29, CIFAR-10 Batch 4:  Cost:0.3419310450553894, Accuracy:0.5598000288009644 \n",
      "Epoch 29, CIFAR-10 Batch 5:  Cost:0.4021536409854889, Accuracy:0.5709999799728394 \n",
      "Epoch 30, CIFAR-10 Batch 1:  Cost:0.39568814635276794, Accuracy:0.5690000057220459 \n",
      "Epoch 30, CIFAR-10 Batch 2:  Cost:0.37643349170684814, Accuracy:0.5659999847412109 \n",
      "Epoch 30, CIFAR-10 Batch 3:  Cost:0.3456176221370697, Accuracy:0.5774000287055969 \n",
      "Epoch 30, CIFAR-10 Batch 4:  Cost:0.3188038766384125, Accuracy:0.5712000131607056 \n",
      "Epoch 30, CIFAR-10 Batch 5:  Cost:0.3886808156967163, Accuracy:0.5594000220298767 \n",
      "Epoch 31, CIFAR-10 Batch 1:  Cost:0.3660801649093628, Accuracy:0.5694000124931335 \n",
      "Epoch 31, CIFAR-10 Batch 2:  Cost:0.3658885061740875, Accuracy:0.5604000091552734 \n",
      "Epoch 31, CIFAR-10 Batch 3:  Cost:0.32196956872940063, Accuracy:0.5723999738693237 \n",
      "Epoch 31, CIFAR-10 Batch 4:  Cost:0.30473482608795166, Accuracy:0.5703999996185303 \n",
      "Epoch 31, CIFAR-10 Batch 5:  Cost:0.3638426959514618, Accuracy:0.5562000274658203 \n",
      "Epoch 32, CIFAR-10 Batch 1:  Cost:0.354591429233551, Accuracy:0.5654000043869019 \n",
      "Epoch 32, CIFAR-10 Batch 2:  Cost:0.35851049423217773, Accuracy:0.5580000281333923 \n",
      "Epoch 32, CIFAR-10 Batch 3:  Cost:0.34396904706954956, Accuracy:0.5532000064849854 \n",
      "Epoch 32, CIFAR-10 Batch 4:  Cost:0.31318891048431396, Accuracy:0.5667999982833862 \n",
      "Epoch 32, CIFAR-10 Batch 5:  Cost:0.37076690793037415, Accuracy:0.5468000173568726 \n",
      "Epoch 33, CIFAR-10 Batch 1:  Cost:0.35454946756362915, Accuracy:0.5702000260353088 \n",
      "Epoch 33, CIFAR-10 Batch 2:  Cost:0.3915800452232361, Accuracy:0.5454000234603882 \n",
      "Epoch 33, CIFAR-10 Batch 3:  Cost:0.3677186667919159, Accuracy:0.5497999787330627 \n",
      "Epoch 33, CIFAR-10 Batch 4:  Cost:0.27842798829078674, Accuracy:0.5616000294685364 \n",
      "Epoch 33, CIFAR-10 Batch 5:  Cost:0.3726658821105957, Accuracy:0.5490000247955322 \n",
      "Epoch 34, CIFAR-10 Batch 1:  Cost:0.3509049117565155, Accuracy:0.5612000226974487 \n",
      "Epoch 34, CIFAR-10 Batch 2:  Cost:0.3603910803794861, Accuracy:0.5511999726295471 \n",
      "Epoch 34, CIFAR-10 Batch 3:  Cost:0.3192160427570343, Accuracy:0.5590000152587891 \n",
      "Epoch 34, CIFAR-10 Batch 4:  Cost:0.3225744068622589, Accuracy:0.5568000078201294 \n",
      "Epoch 34, CIFAR-10 Batch 5:  Cost:0.3097728192806244, Accuracy:0.5735999941825867 \n",
      "Epoch 35, CIFAR-10 Batch 1:  Cost:0.3290100693702698, Accuracy:0.5537999868392944 \n",
      "Epoch 35, CIFAR-10 Batch 2:  Cost:0.36086636781692505, Accuracy:0.5551999807357788 \n",
      "Epoch 35, CIFAR-10 Batch 3:  Cost:0.3364192247390747, Accuracy:0.5479999780654907 \n",
      "Epoch 35, CIFAR-10 Batch 4:  Cost:0.2828059196472168, Accuracy:0.5576000213623047 \n",
      "Epoch 35, CIFAR-10 Batch 5:  Cost:0.31857848167419434, Accuracy:0.574400007724762 \n",
      "Epoch 36, CIFAR-10 Batch 1:  Cost:0.35302823781967163, Accuracy:0.5465999841690063 \n",
      "Epoch 36, CIFAR-10 Batch 2:  Cost:0.3372113108634949, Accuracy:0.5533999800682068 \n",
      "Epoch 36, CIFAR-10 Batch 3:  Cost:0.27332279086112976, Accuracy:0.5577999949455261 \n",
      "Epoch 36, CIFAR-10 Batch 4:  Cost:0.26741358637809753, Accuracy:0.5580000281333923 \n",
      "Epoch 36, CIFAR-10 Batch 5:  Cost:0.30223697423934937, Accuracy:0.5703999996185303 \n",
      "Epoch 37, CIFAR-10 Batch 1:  Cost:0.3822367787361145, Accuracy:0.5490000247955322 \n",
      "Epoch 37, CIFAR-10 Batch 2:  Cost:0.35271155834198, Accuracy:0.5595999956130981 \n",
      "Epoch 37, CIFAR-10 Batch 3:  Cost:0.2764766812324524, Accuracy:0.5626000165939331 \n",
      "Epoch 37, CIFAR-10 Batch 4:  Cost:0.27358660101890564, Accuracy:0.5766000151634216 \n",
      "Epoch 37, CIFAR-10 Batch 5:  Cost:0.3312245011329651, Accuracy:0.5550000071525574 \n",
      "Epoch 38, CIFAR-10 Batch 1:  Cost:0.351901650428772, Accuracy:0.5568000078201294 \n",
      "Epoch 38, CIFAR-10 Batch 2:  Cost:0.34238165616989136, Accuracy:0.5576000213623047 \n",
      "Epoch 38, CIFAR-10 Batch 3:  Cost:0.3178068995475769, Accuracy:0.5533999800682068 \n",
      "Epoch 38, CIFAR-10 Batch 4:  Cost:0.35535383224487305, Accuracy:0.545199990272522 \n",
      "Epoch 38, CIFAR-10 Batch 5:  Cost:0.3926960229873657, Accuracy:0.5400000214576721 \n",
      "Epoch 39, CIFAR-10 Batch 1:  Cost:0.3330523371696472, Accuracy:0.5807999968528748 \n",
      "Epoch 39, CIFAR-10 Batch 2:  Cost:0.29043352603912354, Accuracy:0.5608000159263611 \n",
      "Epoch 39, CIFAR-10 Batch 3:  Cost:0.2376033216714859, Accuracy:0.5637999773025513 \n",
      "Epoch 39, CIFAR-10 Batch 4:  Cost:0.2648264467716217, Accuracy:0.5636000037193298 \n",
      "Epoch 39, CIFAR-10 Batch 5:  Cost:0.2565607726573944, Accuracy:0.5753999948501587 \n",
      "Epoch 40, CIFAR-10 Batch 1:  Cost:0.2646147310733795, Accuracy:0.5802000164985657 \n",
      "Epoch 40, CIFAR-10 Batch 2:  Cost:0.27434536814689636, Accuracy:0.5514000058174133 \n",
      "Epoch 40, CIFAR-10 Batch 3:  Cost:0.20058965682983398, Accuracy:0.5738000273704529 \n"
     ]
    },
    {
     "name": "stdout",
     "output_type": "stream",
     "text": [
      "Epoch 40, CIFAR-10 Batch 4:  Cost:0.20942190289497375, Accuracy:0.574400007724762 \n",
      "Epoch 40, CIFAR-10 Batch 5:  Cost:0.24748282134532928, Accuracy:0.5651999711990356 \n",
      "Epoch 41, CIFAR-10 Batch 1:  Cost:0.24758537113666534, Accuracy:0.58160001039505 \n",
      "Epoch 41, CIFAR-10 Batch 2:  Cost:0.25212761759757996, Accuracy:0.5519999861717224 \n",
      "Epoch 41, CIFAR-10 Batch 3:  Cost:0.1763467639684677, Accuracy:0.5676000118255615 \n",
      "Epoch 41, CIFAR-10 Batch 4:  Cost:0.20214423537254333, Accuracy:0.5705999732017517 \n",
      "Epoch 41, CIFAR-10 Batch 5:  Cost:0.23511762917041779, Accuracy:0.5622000098228455 \n",
      "Epoch 42, CIFAR-10 Batch 1:  Cost:0.22028227150440216, Accuracy:0.5789999961853027 \n",
      "Epoch 42, CIFAR-10 Batch 2:  Cost:0.22257603704929352, Accuracy:0.5522000193595886 \n",
      "Epoch 42, CIFAR-10 Batch 3:  Cost:0.18554739654064178, Accuracy:0.5558000206947327 \n",
      "Epoch 42, CIFAR-10 Batch 4:  Cost:0.1921885907649994, Accuracy:0.5630000233650208 \n",
      "Epoch 42, CIFAR-10 Batch 5:  Cost:0.23696894943714142, Accuracy:0.5511999726295471 \n",
      "Epoch 43, CIFAR-10 Batch 1:  Cost:0.20124861598014832, Accuracy:0.5795999765396118 \n",
      "Epoch 43, CIFAR-10 Batch 2:  Cost:0.18228329718112946, Accuracy:0.5612000226974487 \n",
      "Epoch 43, CIFAR-10 Batch 3:  Cost:0.16312257945537567, Accuracy:0.555400013923645 \n",
      "Epoch 43, CIFAR-10 Batch 4:  Cost:0.16884785890579224, Accuracy:0.5640000104904175 \n",
      "Epoch 43, CIFAR-10 Batch 5:  Cost:0.22729657590389252, Accuracy:0.5436000227928162 \n",
      "Epoch 44, CIFAR-10 Batch 1:  Cost:0.19021032750606537, Accuracy:0.5807999968528748 \n",
      "Epoch 44, CIFAR-10 Batch 2:  Cost:0.16984999179840088, Accuracy:0.5722000002861023 \n",
      "Epoch 44, CIFAR-10 Batch 3:  Cost:0.17266492545604706, Accuracy:0.5490000247955322 \n",
      "Epoch 44, CIFAR-10 Batch 4:  Cost:0.18587999045848846, Accuracy:0.5662000179290771 \n",
      "Epoch 44, CIFAR-10 Batch 5:  Cost:0.3565686345100403, Accuracy:0.5267999768257141 \n",
      "Epoch 45, CIFAR-10 Batch 1:  Cost:0.25645503401756287, Accuracy:0.5558000206947327 \n",
      "Epoch 45, CIFAR-10 Batch 2:  Cost:0.22330202162265778, Accuracy:0.5663999915122986 \n",
      "Epoch 45, CIFAR-10 Batch 3:  Cost:0.18275028467178345, Accuracy:0.5582000017166138 \n",
      "Epoch 45, CIFAR-10 Batch 4:  Cost:0.22642560303211212, Accuracy:0.5564000010490417 \n",
      "Epoch 45, CIFAR-10 Batch 5:  Cost:0.22333212196826935, Accuracy:0.5514000058174133 \n",
      "Epoch 46, CIFAR-10 Batch 1:  Cost:0.26719212532043457, Accuracy:0.550599992275238 \n",
      "Epoch 46, CIFAR-10 Batch 2:  Cost:0.19272546470165253, Accuracy:0.5618000030517578 \n",
      "Epoch 46, CIFAR-10 Batch 3:  Cost:0.22837772965431213, Accuracy:0.5522000193595886 \n",
      "Epoch 46, CIFAR-10 Batch 4:  Cost:0.2730148434638977, Accuracy:0.534600019454956 \n",
      "Epoch 46, CIFAR-10 Batch 5:  Cost:0.25335341691970825, Accuracy:0.5618000030517578 \n",
      "Epoch 47, CIFAR-10 Batch 1:  Cost:0.22409124672412872, Accuracy:0.5698000192642212 \n",
      "Epoch 47, CIFAR-10 Batch 2:  Cost:0.18449069559574127, Accuracy:0.5577999949455261 \n",
      "Epoch 47, CIFAR-10 Batch 3:  Cost:0.17292484641075134, Accuracy:0.5582000017166138 \n",
      "Epoch 47, CIFAR-10 Batch 4:  Cost:0.2607444226741791, Accuracy:0.510200023651123 \n",
      "Epoch 47, CIFAR-10 Batch 5:  Cost:0.1877690702676773, Accuracy:0.5716000199317932 \n",
      "Epoch 48, CIFAR-10 Batch 1:  Cost:0.23417215049266815, Accuracy:0.5576000213623047 \n",
      "Epoch 48, CIFAR-10 Batch 2:  Cost:0.19022707641124725, Accuracy:0.5681999921798706 \n",
      "Epoch 48, CIFAR-10 Batch 3:  Cost:0.126342311501503, Accuracy:0.5626000165939331 \n",
      "Epoch 48, CIFAR-10 Batch 4:  Cost:0.14548984169960022, Accuracy:0.548799991607666 \n",
      "Epoch 48, CIFAR-10 Batch 5:  Cost:0.20259308815002441, Accuracy:0.5738000273704529 \n",
      "Epoch 49, CIFAR-10 Batch 1:  Cost:0.17875880002975464, Accuracy:0.5605999827384949 \n",
      "Epoch 49, CIFAR-10 Batch 2:  Cost:0.19811467826366425, Accuracy:0.5598000288009644 \n",
      "Epoch 49, CIFAR-10 Batch 3:  Cost:0.14058992266654968, Accuracy:0.5559999942779541 \n",
      "Epoch 49, CIFAR-10 Batch 4:  Cost:0.1443495899438858, Accuracy:0.5577999949455261 \n",
      "Epoch 49, CIFAR-10 Batch 5:  Cost:0.19950677454471588, Accuracy:0.5604000091552734 \n",
      "Epoch 50, CIFAR-10 Batch 1:  Cost:0.1347247213125229, Accuracy:0.5673999786376953 \n",
      "Epoch 50, CIFAR-10 Batch 2:  Cost:0.1699659377336502, Accuracy:0.5424000024795532 \n",
      "Epoch 50, CIFAR-10 Batch 3:  Cost:0.12266051024198532, Accuracy:0.5604000091552734 \n",
      "Epoch 50, CIFAR-10 Batch 4:  Cost:0.12337218225002289, Accuracy:0.5590000152587891 \n",
      "Epoch 50, CIFAR-10 Batch 5:  Cost:0.1770876795053482, Accuracy:0.5446000099182129 \n"
     ]
    }
   ],
   "source": [
    "\"\"\"\n",
    "DON'T MODIFY ANYTHING IN THIS CELL\n",
    "\"\"\"\n",
    "save_model_path = './image_classification'\n",
    "\n",
    "print('Training...')\n",
    "with tf.Session() as sess:\n",
    "    # Initializing the variables\n",
    "    sess.run(tf.global_variables_initializer())\n",
    "    \n",
    "    # Training cycle\n",
    "    for epoch in range(epochs):\n",
    "        # Loop over all batches\n",
    "        n_batches = 5\n",
    "        for batch_i in range(1, n_batches + 1):\n",
    "            for batch_features, batch_labels in helper.load_preprocess_training_batch(batch_i, batch_size):\n",
    "                train_neural_network(sess, optimizer, keep_probability, batch_features, batch_labels)\n",
    "            print('Epoch {:>2}, CIFAR-10 Batch {}:  '.format(epoch + 1, batch_i), end='')\n",
    "            print_stats(sess, batch_features, batch_labels, cost, accuracy)\n",
    "            \n",
    "    # Save Model\n",
    "    saver = tf.train.Saver()\n",
    "    save_path = saver.save(sess, save_model_path)"
   ]
  },
  {
   "cell_type": "markdown",
   "metadata": {},
   "source": [
    "# Checkpoint\n",
    "The model has been saved to disk.\n",
    "## Test Model\n",
    "Test your model against the test dataset.  This will be your final accuracy. You should have an accuracy greater than 50%. If you don't, keep tweaking the model architecture and parameters."
   ]
  },
  {
   "cell_type": "code",
   "execution_count": null,
   "metadata": {
    "collapsed": true
   },
   "outputs": [],
   "source": [
    "\"\"\"\n",
    "DON'T MODIFY ANYTHING IN THIS CELL\n",
    "\"\"\"\n",
    "%matplotlib inline\n",
    "%config InlineBackend.figure_format = 'retina'\n",
    "\n",
    "import tensorflow as tf\n",
    "import pickle\n",
    "import helper\n",
    "import random\n",
    "\n",
    "# Set batch size if not already set\n",
    "try:\n",
    "    if batch_size:\n",
    "        pass\n",
    "except NameError:\n",
    "    batch_size = 64\n",
    "\n",
    "save_model_path = './image_classification'\n",
    "n_samples = 4\n",
    "top_n_predictions = 3\n",
    "\n",
    "def test_model():\n",
    "    \"\"\"\n",
    "    Test the saved model against the test dataset\n",
    "    \"\"\"\n",
    "\n",
    "    test_features, test_labels = pickle.load(open('preprocess_test.p', mode='rb'))\n",
    "    loaded_graph = tf.Graph()\n",
    "\n",
    "    with tf.Session(graph=loaded_graph) as sess:\n",
    "        # Load model\n",
    "        loader = tf.train.import_meta_graph(save_model_path + '.meta')\n",
    "        loader.restore(sess, save_model_path)\n",
    "\n",
    "        # Get Tensors from loaded model\n",
    "        loaded_x = loaded_graph.get_tensor_by_name('x:0')\n",
    "        loaded_y = loaded_graph.get_tensor_by_name('y:0')\n",
    "        loaded_keep_prob = loaded_graph.get_tensor_by_name('keep_prob:0')\n",
    "        loaded_logits = loaded_graph.get_tensor_by_name('logits:0')\n",
    "        loaded_acc = loaded_graph.get_tensor_by_name('accuracy:0')\n",
    "        \n",
    "        # Get accuracy in batches for memory limitations\n",
    "        test_batch_acc_total = 0\n",
    "        test_batch_count = 0\n",
    "        \n",
    "        for test_feature_batch, test_label_batch in helper.batch_features_labels(test_features, test_labels, batch_size):\n",
    "            test_batch_acc_total += sess.run(\n",
    "                loaded_acc,\n",
    "                feed_dict={loaded_x: test_feature_batch, loaded_y: test_label_batch, loaded_keep_prob: 1.0})\n",
    "            test_batch_count += 1\n",
    "\n",
    "        print('Testing Accuracy: {}\\n'.format(test_batch_acc_total/test_batch_count))\n",
    "\n",
    "        # Print Random Samples\n",
    "        random_test_features, random_test_labels = tuple(zip(*random.sample(list(zip(test_features, test_labels)), n_samples)))\n",
    "        random_test_predictions = sess.run(\n",
    "            tf.nn.top_k(tf.nn.softmax(loaded_logits), top_n_predictions),\n",
    "            feed_dict={loaded_x: random_test_features, loaded_y: random_test_labels, loaded_keep_prob: 1.0})\n",
    "        helper.display_image_predictions(random_test_features, random_test_labels, random_test_predictions)\n",
    "\n",
    "\n",
    "test_model()"
   ]
  },
  {
   "cell_type": "markdown",
   "metadata": {},
   "source": [
    "## Why 50-80% Accuracy?\n",
    "You might be wondering why you can't get an accuracy any higher. First things first, 50% isn't bad for a simple CNN.  Pure guessing would get you 10% accuracy. However, you might notice people are getting scores [well above 80%](http://rodrigob.github.io/are_we_there_yet/build/classification_datasets_results.html#43494641522d3130).  That's because we haven't taught you all there is to know about neural networks. We still need to cover a few more techniques.\n",
    "## Submitting This Project\n",
    "When submitting this project, make sure to run all the cells before saving the notebook.  Save the notebook file as \"dlnd_image_classification.ipynb\" and save it as a HTML file under \"File\" -> \"Download as\".  Include the \"helper.py\" and \"problem_unittests.py\" files in your submission."
   ]
  }
 ],
 "metadata": {
  "anaconda-cloud": {},
  "kernelspec": {
   "display_name": "Python [conda env:dlnd]",
   "language": "python",
   "name": "conda-env-dlnd-py"
  },
  "language_info": {
   "codemirror_mode": {
    "name": "ipython",
    "version": 3
   },
   "file_extension": ".py",
   "mimetype": "text/x-python",
   "name": "python",
   "nbconvert_exporter": "python",
   "pygments_lexer": "ipython3",
   "version": "3.5.4"
  }
 },
 "nbformat": 4,
 "nbformat_minor": 1
}
